{
 "cells": [
  {
   "cell_type": "code",
   "execution_count": 4,
   "metadata": {},
   "outputs": [],
   "source": [
    "import asr_evaluation"
   ]
  },
  {
   "cell_type": "code",
   "execution_count": 5,
   "metadata": {},
   "outputs": [
    {
     "name": "stdout",
     "output_type": "stream",
     "text": [
      "Sentence count: 56612\r\n",
      "WER:    69.853% (    916146 /    1311528)\r\n",
      "WRR:    62.018% (    813381 /    1311528)\r\n",
      "SER:    93.438% (     52897 /      56612)\r\n"
     ]
    }
   ],
   "source": [
    "! wer ted-train.txt seg-train.txt"
   ]
  },
  {
   "cell_type": "code",
   "execution_count": 13,
   "metadata": {},
   "outputs": [],
   "source": [
    "myvar, wer, wrr, ser = ! wer ted-test.txt seg-test.txt"
   ]
  },
  {
   "cell_type": "code",
   "execution_count": 16,
   "metadata": {},
   "outputs": [
    {
     "data": {
      "text/plain": [
       "'WER:    32.389% (      8907 /      27500)'"
      ]
     },
     "execution_count": 16,
     "metadata": {},
     "output_type": "execute_result"
    }
   ],
   "source": [
    "wer"
   ]
  },
  {
   "cell_type": "code",
   "execution_count": 2,
   "metadata": {},
   "outputs": [],
   "source": [
    "# ! pip install jiwer\n",
    "from jiwer import wer"
   ]
  },
  {
   "cell_type": "code",
   "execution_count": 2,
   "metadata": {},
   "outputs": [],
   "source": [
    "\n",
    "ground_truth = \"hello world\"\n",
    "hypothesis = \"hello duck\"\n",
    "\n",
    "error = wer(ground_truth, hypothesis)"
   ]
  },
  {
   "cell_type": "code",
   "execution_count": 3,
   "metadata": {},
   "outputs": [
    {
     "data": {
      "text/plain": [
       "0.5"
      ]
     },
     "execution_count": 3,
     "metadata": {},
     "output_type": "execute_result"
    }
   ],
   "source": [
    "error\n"
   ]
  },
  {
   "cell_type": "code",
   "execution_count": 16,
   "metadata": {},
   "outputs": [],
   "source": [
    "ted_train = open(\"/Users/sammitranade/mscds/diss/TEDLIUM_release1/final-data/ted-train.txt\").readlines()\n",
    "seg_train = open(\"/Users/sammitranade/mscds/diss/TEDLIUM_release1/final-data/seg-train.txt\").readlines()"
   ]
  },
  {
   "cell_type": "code",
   "execution_count": 9,
   "metadata": {},
   "outputs": [
    {
     "data": {
      "text/plain": [
       "56612"
      ]
     },
     "execution_count": 9,
     "metadata": {},
     "output_type": "execute_result"
    }
   ],
   "source": [
    "len(ted_train)"
   ]
  },
  {
   "cell_type": "code",
   "execution_count": 10,
   "metadata": {},
   "outputs": [
    {
     "data": {
      "text/plain": [
       "56612"
      ]
     },
     "execution_count": 10,
     "metadata": {},
     "output_type": "execute_result"
    }
   ],
   "source": [
    "len(seg_train)"
   ]
  },
  {
   "cell_type": "code",
   "execution_count": 28,
   "metadata": {},
   "outputs": [
    {
     "name": "stdout",
     "output_type": "stream",
     "text": [
      "56612\n",
      "56612\n",
      "30507\n",
      "30507\n"
     ]
    }
   ],
   "source": [
    "ted_train = open(\"/Users/sammitranade/mscds/diss/TEDLIUM_release1/final-data/ted-train.txt\").readlines()\n",
    "seg_train = open(\"/Users/sammitranade/mscds/diss/TEDLIUM_release1/final-data/seg-train.txt\").readlines()\n",
    "print(len(ted_train))\n",
    "print(len(seg_train))\n",
    "filtered_ted_train = []\n",
    "filtered_seg_train = []\n",
    "for i in range(len(ted_train)):\n",
    "    error = wer(ted_train[i], seg_train[i])\n",
    "    if error <= 0.5:\n",
    "        filtered_ted_train.append(ted_train[i])\n",
    "        filtered_seg_train.append(seg_train[i])\n",
    "print(len(filtered_ted_train))\n",
    "print(len(filtered_seg_train))"
   ]
  },
  {
   "cell_type": "code",
   "execution_count": 29,
   "metadata": {},
   "outputs": [
    {
     "name": "stdout",
     "output_type": "stream",
     "text": [
      "507\n",
      "507\n",
      "365\n",
      "365\n"
     ]
    }
   ],
   "source": [
    "ted_dev = open(\"/Users/sammitranade/mscds/diss/TEDLIUM_release1/final-data/ted-dev.txt\").readlines()\n",
    "seg_dev = open(\"/Users/sammitranade/mscds/diss/TEDLIUM_release1/final-data/seg-dev.txt\").readlines()\n",
    "print(len(ted_dev))\n",
    "print(len(seg_dev))\n",
    "filtered_ted_dev = []\n",
    "filtered_seg_dev = []\n",
    "for i in range(len(ted_dev)):\n",
    "#     print(i, end=\" \")\n",
    "    error = wer(ted_dev[i], seg_dev[i])\n",
    "    if error <= 0.5:\n",
    "        filtered_ted_dev.append(ted_dev[i])\n",
    "        filtered_seg_dev.append(seg_dev[i])\n",
    "print(len(filtered_ted_dev))\n",
    "print(len(filtered_seg_dev))"
   ]
  },
  {
   "cell_type": "code",
   "execution_count": 30,
   "metadata": {
    "scrolled": true
   },
   "outputs": [
    {
     "name": "stdout",
     "output_type": "stream",
     "text": [
      "1155\n",
      "1155\n",
      "915\n",
      "915\n"
     ]
    }
   ],
   "source": [
    "ted_test = open(\"/Users/sammitranade/mscds/diss/TEDLIUM_release1/final-data/ted-test.txt\").readlines()\n",
    "seg_test = open(\"/Users/sammitranade/mscds/diss/TEDLIUM_release1/final-data/seg-test.txt\").readlines()\n",
    "print(len(ted_test))\n",
    "print(len(seg_test))\n",
    "filtered_ted_test = []\n",
    "filtered_seg_test = []\n",
    "for i in range(len(ted_test)):\n",
    "#     print(i, end=\" \")\n",
    "    error = wer(ted_test[i], seg_test[i])\n",
    "    if error <= 0.5:\n",
    "        filtered_ted_test.append(ted_test[i])\n",
    "        filtered_seg_test.append(seg_test[i])\n",
    "print(len(filtered_ted_test))\n",
    "print(len(filtered_seg_test))"
   ]
  },
  {
   "cell_type": "code",
   "execution_count": 38,
   "metadata": {},
   "outputs": [],
   "source": [
    "with open(\"/Users/sammitranade/mscds/diss/TEDLIUM_release1/final-data/filtered_ted_train.txt\", \"w\") as outfile:\n",
    "            outfile.write(\"\".join(filtered_ted_train))"
   ]
  },
  {
   "cell_type": "code",
   "execution_count": 39,
   "metadata": {},
   "outputs": [],
   "source": [
    "with open(\"/Users/sammitranade/mscds/diss/TEDLIUM_release1/final-data/filtered_seg_train.txt\", \"w\") as outfile:\n",
    "            outfile.write(\"\".join(filtered_seg_train))"
   ]
  },
  {
   "cell_type": "code",
   "execution_count": 40,
   "metadata": {},
   "outputs": [],
   "source": [
    "with open(\"/Users/sammitranade/mscds/diss/TEDLIUM_release1/final-data/filtered_ted_dev.txt\", \"w\") as outfile:\n",
    "            outfile.write(\"\".join(filtered_ted_dev))"
   ]
  },
  {
   "cell_type": "code",
   "execution_count": 41,
   "metadata": {},
   "outputs": [],
   "source": [
    "with open(\"/Users/sammitranade/mscds/diss/TEDLIUM_release1/final-data/filtered_seg_dev.txt\", \"w\") as outfile:\n",
    "            outfile.write(\"\".join(filtered_seg_dev))"
   ]
  },
  {
   "cell_type": "code",
   "execution_count": 42,
   "metadata": {},
   "outputs": [],
   "source": [
    "with open(\"/Users/sammitranade/mscds/diss/TEDLIUM_release1/final-data/filtered_ted_test.txt\", \"w\") as outfile:\n",
    "            outfile.write(\"\".join(filtered_ted_test))"
   ]
  },
  {
   "cell_type": "code",
   "execution_count": 43,
   "metadata": {},
   "outputs": [],
   "source": [
    "with open(\"/Users/sammitranade/mscds/diss/TEDLIUM_release1/final-data/filtered_seg_test.txt\", \"w\") as outfile:\n",
    "            outfile.write(\"\".join(filtered_seg_test))"
   ]
  },
  {
   "cell_type": "code",
   "execution_count": null,
   "metadata": {},
   "outputs": [],
   "source": []
  }
 ],
 "metadata": {
  "kernelspec": {
   "display_name": "Python 3",
   "language": "python",
   "name": "python3"
  },
  "language_info": {
   "codemirror_mode": {
    "name": "ipython",
    "version": 3
   },
   "file_extension": ".py",
   "mimetype": "text/x-python",
   "name": "python",
   "nbconvert_exporter": "python",
   "pygments_lexer": "ipython3",
   "version": "3.6.5"
  }
 },
 "nbformat": 4,
 "nbformat_minor": 2
}
