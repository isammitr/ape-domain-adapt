{
 "cells": [
  {
   "cell_type": "code",
   "execution_count": 4,
   "metadata": {},
   "outputs": [],
   "source": [
    "import asr_evaluation"
   ]
  },
  {
   "cell_type": "code",
   "execution_count": 5,
   "metadata": {},
   "outputs": [
    {
     "name": "stdout",
     "output_type": "stream",
     "text": [
      "Sentence count: 56612\r\n",
      "WER:    69.853% (    916146 /    1311528)\r\n",
      "WRR:    62.018% (    813381 /    1311528)\r\n",
      "SER:    93.438% (     52897 /      56612)\r\n"
     ]
    }
   ],
   "source": [
    "! wer ted-train.txt seg-train.txt"
   ]
  },
  {
   "cell_type": "code",
   "execution_count": 13,
   "metadata": {},
   "outputs": [],
   "source": [
    "myvar, wer, wrr, ser = ! wer ted-test.txt seg-test.txt"
   ]
  },
  {
   "cell_type": "code",
   "execution_count": 16,
   "metadata": {},
   "outputs": [
    {
     "data": {
      "text/plain": [
       "'WER:    32.389% (      8907 /      27500)'"
      ]
     },
     "execution_count": 16,
     "metadata": {},
     "output_type": "execute_result"
    }
   ],
   "source": [
    "wer"
   ]
  },
  {
   "cell_type": "code",
   "execution_count": 1,
   "metadata": {},
   "outputs": [],
   "source": [
    "# ! pip install jiwer\n",
    "from jiwer import wer"
   ]
  },
  {
   "cell_type": "code",
   "execution_count": 2,
   "metadata": {},
   "outputs": [],
   "source": [
    "\n",
    "ground_truth = \"hello world\"\n",
    "hypothesis = \"hello duck\"\n",
    "\n",
    "error = wer(ground_truth, hypothesis)"
   ]
  },
  {
   "cell_type": "code",
   "execution_count": 3,
   "metadata": {},
   "outputs": [
    {
     "data": {
      "text/plain": [
       "0.5"
      ]
     },
     "execution_count": 3,
     "metadata": {},
     "output_type": "execute_result"
    }
   ],
   "source": [
    "error\n"
   ]
  },
  {
   "cell_type": "code",
   "execution_count": 2,
   "metadata": {},
   "outputs": [],
   "source": [
    "ted_train = open(\"/Users/sammitranade/mscds/diss/TEDLIUM_release1/final-data/ted-train.txt\").readlines()\n",
    "seg_train = open(\"/Users/sammitranade/mscds/diss/TEDLIUM_release1/final-data/seg-train.txt\").readlines()"
   ]
  },
  {
   "cell_type": "code",
   "execution_count": 3,
   "metadata": {},
   "outputs": [
    {
     "data": {
      "text/plain": [
       "56612"
      ]
     },
     "execution_count": 3,
     "metadata": {},
     "output_type": "execute_result"
    }
   ],
   "source": [
    "len(ted_train)"
   ]
  },
  {
   "cell_type": "code",
   "execution_count": 4,
   "metadata": {},
   "outputs": [
    {
     "data": {
      "text/plain": [
       "56612"
      ]
     },
     "execution_count": 4,
     "metadata": {},
     "output_type": "execute_result"
    }
   ],
   "source": [
    "len(seg_train)"
   ]
  },
  {
   "cell_type": "code",
   "execution_count": 9,
   "metadata": {},
   "outputs": [
    {
     "name": "stdout",
     "output_type": "stream",
     "text": [
      "56612\n",
      "56612\n",
      "36233\n",
      "36233\n"
     ]
    }
   ],
   "source": [
    "ted_train = open(\"/Users/sammitranade/mscds/diss/TEDLIUM_release1/final-data/ted-train.txt\").readlines()\n",
    "seg_train = open(\"/Users/sammitranade/mscds/diss/TEDLIUM_release1/final-data/seg-train.txt\").readlines()\n",
    "print(len(ted_train))\n",
    "print(len(seg_train))\n",
    "filtered_ted_train = []\n",
    "filtered_seg_train = []\n",
    "for i in range(len(ted_train)):\n",
    "    error = wer(ted_train[i], seg_train[i])\n",
    "    if error <= 0.8:\n",
    "        filtered_ted_train.append(ted_train[i])\n",
    "        filtered_seg_train.append(seg_train[i])\n",
    "print(len(filtered_ted_train))\n",
    "print(len(filtered_seg_train))"
   ]
  },
  {
   "cell_type": "code",
   "execution_count": 10,
   "metadata": {},
   "outputs": [
    {
     "name": "stdout",
     "output_type": "stream",
     "text": [
      "507\n",
      "507\n",
      "421\n",
      "421\n"
     ]
    }
   ],
   "source": [
    "ted_dev = open(\"/Users/sammitranade/mscds/diss/TEDLIUM_release1/final-data/ted-dev.txt\").readlines()\n",
    "seg_dev = open(\"/Users/sammitranade/mscds/diss/TEDLIUM_release1/final-data/seg-dev.txt\").readlines()\n",
    "print(len(ted_dev))\n",
    "print(len(seg_dev))\n",
    "filtered_ted_dev = []\n",
    "filtered_seg_dev = []\n",
    "for i in range(len(ted_dev)):\n",
    "#     print(i, end=\" \")\n",
    "    error = wer(ted_dev[i], seg_dev[i])\n",
    "    if error <= 0.8:\n",
    "        filtered_ted_dev.append(ted_dev[i])\n",
    "        filtered_seg_dev.append(seg_dev[i])\n",
    "print(len(filtered_ted_dev))\n",
    "print(len(filtered_seg_dev))"
   ]
  },
  {
   "cell_type": "code",
   "execution_count": 15,
   "metadata": {
    "scrolled": true
   },
   "outputs": [
    {
     "name": "stdout",
     "output_type": "stream",
     "text": [
      "1155\n",
      "1155\n",
      "1024\n",
      "1024\n"
     ]
    }
   ],
   "source": [
    "ted_test = open(\"/Users/sammitranade/mscds/diss/TEDLIUM_release1/final-data/ted-test.txt\").readlines()\n",
    "seg_test = open(\"/Users/sammitranade/mscds/diss/TEDLIUM_release1/final-data/seg-test.txt\").readlines()\n",
    "print(len(ted_test))\n",
    "print(len(seg_test))\n",
    "filtered_ted_test = []\n",
    "filtered_seg_test = []\n",
    "for i in range(len(ted_test)):\n",
    "#     print(i, end=\" \")\n",
    "    error = wer(ted_test[i], seg_test[i])\n",
    "    if error <= 0.8:\n",
    "        filtered_ted_test.append(ted_test[i])\n",
    "        filtered_seg_test.append(seg_test[i])\n",
    "print(len(filtered_ted_test))\n",
    "print(len(filtered_seg_test))"
   ]
  },
  {
   "cell_type": "code",
   "execution_count": 11,
   "metadata": {},
   "outputs": [],
   "source": [
    "with open(\"/Users/sammitranade/mscds/diss/TEDLIUM_release1/final-data/filtered_ted_train_80.txt\", \"w\") as outfile:\n",
    "            outfile.write(\"\".join(filtered_ted_train))"
   ]
  },
  {
   "cell_type": "code",
   "execution_count": 12,
   "metadata": {},
   "outputs": [],
   "source": [
    "with open(\"/Users/sammitranade/mscds/diss/TEDLIUM_release1/final-data/filtered_seg_train_80.txt\", \"w\") as outfile:\n",
    "            outfile.write(\"\".join(filtered_seg_train))"
   ]
  },
  {
   "cell_type": "code",
   "execution_count": 13,
   "metadata": {},
   "outputs": [],
   "source": [
    "with open(\"/Users/sammitranade/mscds/diss/TEDLIUM_release1/final-data/filtered_ted_dev_80.txt\", \"w\") as outfile:\n",
    "            outfile.write(\"\".join(filtered_ted_dev))"
   ]
  },
  {
   "cell_type": "code",
   "execution_count": 14,
   "metadata": {},
   "outputs": [],
   "source": [
    "with open(\"/Users/sammitranade/mscds/diss/TEDLIUM_release1/final-data/filtered_seg_dev_80.txt\", \"w\") as outfile:\n",
    "            outfile.write(\"\".join(filtered_seg_dev))"
   ]
  },
  {
   "cell_type": "code",
   "execution_count": 16,
   "metadata": {},
   "outputs": [],
   "source": [
    "with open(\"/Users/sammitranade/mscds/diss/TEDLIUM_release1/final-data/filtered_ted_test_80.txt\", \"w\") as outfile:\n",
    "            outfile.write(\"\".join(filtered_ted_test))"
   ]
  },
  {
   "cell_type": "code",
   "execution_count": 17,
   "metadata": {},
   "outputs": [],
   "source": [
    "with open(\"/Users/sammitranade/mscds/diss/TEDLIUM_release1/final-data/filtered_seg_test_80.txt\", \"w\") as outfile:\n",
    "            outfile.write(\"\".join(filtered_seg_test))"
   ]
  },
  {
   "cell_type": "code",
   "execution_count": null,
   "metadata": {},
   "outputs": [],
   "source": []
  },
  {
   "cell_type": "code",
   "execution_count": null,
   "metadata": {},
   "outputs": [],
   "source": []
  },
  {
   "cell_type": "code",
   "execution_count": 2,
   "metadata": {},
   "outputs": [
    {
     "data": {
      "image/png": "[encoded data removed]",
      "text/plain": [
       "<Figure size 432x288 with 1 Axes>"
      ]
     },
     "metadata": {
      "needs_background": "light"
     },
     "output_type": "display_data"
    }
   ],
   "source": [
    "import numpy as np \n",
    "import matplotlib.pyplot as plt \n",
    "%matplotlib inline\n",
    "\n",
    "X = [10,20,50, 100]\n",
    "Ygirls = [50.679,48.721,47.822,68.428]\n",
    "Zboys = [25.075,22.823,22.698,55.133]\n",
    "  \n",
    "X_axis = np.arange(len(X))\n",
    "  \n",
    "plt.bar(X_axis - 0.2, Ygirls, 0.4, label = 'Gold Reference')\n",
    "plt.bar(X_axis + 0.2, Zboys, 0.4, label = 'ASR Output')\n",
    "  \n",
    "plt.xticks(X_axis, X)\n",
    "plt.xlabel(\"Training Data Filtered @ WER%\")\n",
    "plt.ylabel(\"WER\")\n",
    "plt.title(\"APE WER w.r.t Reference Transcripts\")\n",
    "plt.legend()\n",
    "\n",
    "# for i in range(len(Ygirls)):\n",
    "# #     print(i)\n",
    "#     plt.annotate(str(Ygirls[i]), xy=(X[i],Ygirls[i]), ha='center', va='bottom')\n",
    "#     plt.annotate(str(Zboys[i]), xy=(X[i],Zboys[i]), ha='center', va='bottom')\n",
    "\n",
    "plt.show()"
   ]
  },
  {
   "cell_type": "code",
   "execution_count": 1,
   "metadata": {},
   "outputs": [
    {
     "data": {
      "text/plain": [
       "'3.4.0'"
      ]
     },
     "execution_count": 1,
     "metadata": {},
     "output_type": "execute_result"
    }
   ],
   "source": [
    "import matplotlib\n",
    "matplotlib.__version__"
   ]
  },
  {
   "cell_type": "code",
   "execution_count": 2,
   "metadata": {},
   "outputs": [],
   "source": [
    "# ! conda install nb_conda"
   ]
  },
  {
   "cell_type": "code",
   "execution_count": 5,
   "metadata": {},
   "outputs": [
    {
     "name": "stdout",
     "output_type": "stream",
     "text": [
      "Collecting matplotlib==3.4\n",
      "  Downloading matplotlib-3.4.0-cp39-cp39-macosx_10_9_x86_64.whl (7.2 MB)\n",
      "\u001b[K     |████████████████████████████████| 7.2 MB 3.8 MB/s eta 0:00:01\n",
      "\u001b[?25hRequirement already satisfied: python-dateutil>=2.7 in /Users/sammitranade/anaconda3/envs/py39/lib/python3.9/site-packages (from matplotlib==3.4) (2.8.1)\n",
      "Requirement already satisfied: numpy>=1.16 in /Users/sammitranade/anaconda3/envs/py39/lib/python3.9/site-packages (from matplotlib==3.4) (1.20.1)\n",
      "Requirement already satisfied: cycler>=0.10 in /Users/sammitranade/anaconda3/envs/py39/lib/python3.9/site-packages (from matplotlib==3.4) (0.10.0)\n",
      "Requirement already satisfied: pyparsing>=2.2.1 in /Users/sammitranade/anaconda3/envs/py39/lib/python3.9/site-packages (from matplotlib==3.4) (2.4.7)\n",
      "Requirement already satisfied: pillow>=6.2.0 in /Users/sammitranade/anaconda3/envs/py39/lib/python3.9/site-packages (from matplotlib==3.4) (8.2.0)\n",
      "Requirement already satisfied: kiwisolver>=1.0.1 in /Users/sammitranade/anaconda3/envs/py39/lib/python3.9/site-packages (from matplotlib==3.4) (1.3.1)\n",
      "Requirement already satisfied: six in /Users/sammitranade/anaconda3/envs/py39/lib/python3.9/site-packages (from cycler>=0.10->matplotlib==3.4) (1.15.0)\n",
      "Installing collected packages: matplotlib\n",
      "  Attempting uninstall: matplotlib\n",
      "    Found existing installation: matplotlib 3.3.4\n",
      "    Uninstalling matplotlib-3.3.4:\n",
      "      Successfully uninstalled matplotlib-3.3.4\n",
      "Successfully installed matplotlib-3.4.0\n"
     ]
    }
   ],
   "source": [
    "! pip install matplotlib==3.4"
   ]
  },
  {
   "cell_type": "code",
   "execution_count": 53,
   "metadata": {},
   "outputs": [
    {
     "data": {
      "image/png": "[encoded data removed]",
      "text/plain": [
       "<Figure size 720x432 with 1 Axes>"
      ]
     },
     "metadata": {
      "needs_background": "light"
     },
     "output_type": "display_data"
    }
   ],
   "source": [
    "import matplotlib.pyplot as plt\n",
    "import numpy as np\n",
    "\n",
    "\n",
    "labels = ['10','20','50', '80', '100']\n",
    "men_means = [50.679, 48.721, 47.822, 48.919, 68.428]\n",
    "women_means = [41.072, 40.124, 40.552, 41.706, 49.621]\n",
    "means = [40.459, 39.646, 40.404, 40.989, 49.511]\n",
    "\n",
    "x = np.arange(len(labels))  # the label locations\n",
    "width = 0.3  # the width of the bars\n",
    "\n",
    "fig, ax = plt.subplots(figsize=(10, 6))\n",
    "rects1 = ax.bar(x - width, men_means, width, label='ASR Test Data Segmented using Ref Valid data')\n",
    "rects2 = ax.bar(x , women_means, width, label='ASR Test Data Segmented using Ref Test data')\n",
    "rects3 = ax.bar(x + width, means, width, label='ASR Test Data Fixed Length Segmentation')\n",
    "\n",
    "# Add some text for labels, title and custom x-axis tick labels, etc.\n",
    "ax.set_ylabel('APE WER %')\n",
    "ax.set_xlabel(\"Training Data Filtered @ WER%\")\n",
    "# ax.set_title('APE WER w.r.t Gold Reference')\n",
    "ax.set_xticks(x)\n",
    "ax.set_xticklabels(labels)\n",
    "# ax.legend()\n",
    "\n",
    "line1 = ax.axhline(y=38.17, color='r', linestyle='--', label='Baseline WER%')\n",
    "\n",
    "# plt.show() \n",
    "ax.legend()\n",
    "ax.annotate('38.170', xy =(3.3, 1),\n",
    "                xytext =(1.35, 35))\n",
    "\n",
    "ax.bar_label(rects1, padding=3)\n",
    "ax.bar_label(rects2, padding=3)\n",
    "ax.bar_label(rects3, padding=3)\n",
    "\n",
    "fig.tight_layout()\n",
    "\n",
    "plt.show()\n",
    "fig.savefig('exp2_1.pdf')"
   ]
  },
  {
   "cell_type": "code",
   "execution_count": 46,
   "metadata": {
    "scrolled": false
   },
   "outputs": [
    {
     "data": {
      "image/png": "[encoded data removed]",
      "text/plain": [
       "<Figure size 720x432 with 1 Axes>"
      ]
     },
     "metadata": {
      "needs_background": "light"
     },
     "output_type": "display_data"
    }
   ],
   "source": [
    "import matplotlib.pyplot as plt\n",
    "import numpy as np\n",
    "\n",
    "\n",
    "labels = ['10','20','50', '80', '100']\n",
    "men_means = [25.075, 22.823, 22.698, 24.950, 55.133]\n",
    "women_means = [9.723, 9.095, 11.721, 14.048, 27.922]\n",
    "means = [8.521, 8.103, 11.254, 12.762, 26.556]\n",
    "\n",
    "x = np.arange(len(labels))  # the label locations\n",
    "width = 0.3  # the width of the bars\n",
    "\n",
    "fig, ax = plt.subplots(figsize=(10, 6))\n",
    "rects1 = ax.bar(x - width, men_means, width, label='ASR Test Data Segmented using Ref Valid data')\n",
    "rects2 = ax.bar(x , women_means, width, label='ASR Test Data Segmented using Ref Test data')\n",
    "rects3 = ax.bar(x + width, means, width, label='ASR Test Data Fixed Length Segmentation')\n",
    "\n",
    "# Add some text for labels, title and custom x-axis tick labels, etc.\n",
    "ax.set_ylabel('APE WER %')\n",
    "ax.set_xlabel(\"Training Data Filtered @ WER%\")\n",
    "# ax.set_title('APE WER w.r.t ASR Output')\n",
    "ax.set_xticks(x)\n",
    "ax.set_xticklabels(labels)\n",
    "ax.legend()\n",
    "\n",
    "ax.bar_label(rects1, padding=3)\n",
    "ax.bar_label(rects2, padding=3)\n",
    "ax.bar_label(rects3, padding=3)\n",
    "\n",
    "fig.tight_layout()\n",
    "\n",
    "plt.show()\n",
    "fig.savefig('exp2_2.pdf')"
   ]
  },
  {
   "cell_type": "code",
   "execution_count": null,
   "metadata": {},
   "outputs": [],
   "source": [
    "import matplotlib.pyplot as plt\n",
    "import numpy as np\n",
    "\n",
    "\n",
    "labels = ['10','20','50', '100']\n",
    "men_means = [8.521,8.103,11.254,26.556]\n",
    "women_means = [9.723,9.095,11.721,27.922]\n",
    "\n",
    "x = np.arange(len(labels))  # the label locations\n",
    "width = 0.35  # the width of the bars\n",
    "\n",
    "fig, ax = plt.subplots(figsize=(10, 5))\n",
    "rects1 = ax.bar(x - width/2, men_means, width, label='ASR Test Data Segmented using Ref Dev data')\n",
    "rects2 = ax.bar(x + width/2, women_means, width, label='ASR Test Data Segmented using Ref Test data')\n",
    "\n",
    "# Add some text for labels, title and custom x-axis tick labels, etc.\n",
    "ax.set_ylabel('WER %')\n",
    "ax.set_xlabel(\"Training Data Filtered @ WER%\")\n",
    "ax.set_title('APE WER w.r.t ASR Output')\n",
    "ax.set_xticks(x)\n",
    "ax.set_xticklabels(labels)\n",
    "ax.legend()\n",
    "\n",
    "ax.bar_label(rects1, padding=3)\n",
    "ax.bar_label(rects2, padding=3)\n",
    "\n",
    "fig.tight_layout()\n",
    "\n",
    "plt.show()"
   ]
  },
  {
   "cell_type": "code",
   "execution_count": 9,
   "metadata": {},
   "outputs": [
    {
     "name": "stdout",
     "output_type": "stream",
     "text": [
      "[['This', 'is', 'a', 'small', 'example', 'Text,', 'showcasing', 'my', 'desired', 'output.'], ['This', 'is', 'a', 'small', 'example', 'Text,', 'showcasing', 'my', 'desired', 'output.']]\n"
     ]
    },
    {
     "ename": "TypeError",
     "evalue": "sequence item 0: expected str instance, list found",
     "output_type": "error",
     "traceback": [
      "\u001b[0;31m---------------------------------------------------------------------------\u001b[0m",
      "\u001b[0;31mTypeError\u001b[0m                                 Traceback (most recent call last)",
      "\u001b[0;32m<ipython-input-9-4746a3b5b91f>\u001b[0m in \u001b[0;36m<module>\u001b[0;34m\u001b[0m\n\u001b[1;32m      4\u001b[0m \u001b[0mn\u001b[0m \u001b[0;34m=\u001b[0m \u001b[0;36m4\u001b[0m\u001b[0;34m\u001b[0m\u001b[0;34m\u001b[0m\u001b[0m\n\u001b[1;32m      5\u001b[0m \u001b[0mprint\u001b[0m\u001b[0;34m(\u001b[0m\u001b[0mtext\u001b[0m\u001b[0;34m)\u001b[0m\u001b[0;34m\u001b[0m\u001b[0;34m\u001b[0m\u001b[0m\n\u001b[0;32m----> 6\u001b[0;31m \u001b[0;34m[\u001b[0m\u001b[0;34m' '\u001b[0m\u001b[0;34m.\u001b[0m\u001b[0mjoin\u001b[0m\u001b[0;34m(\u001b[0m\u001b[0mtext\u001b[0m\u001b[0;34m[\u001b[0m\u001b[0mi\u001b[0m\u001b[0;34m:\u001b[0m\u001b[0mi\u001b[0m\u001b[0;34m+\u001b[0m\u001b[0mn\u001b[0m\u001b[0;34m]\u001b[0m\u001b[0;34m)\u001b[0m \u001b[0;32mfor\u001b[0m \u001b[0mi\u001b[0m \u001b[0;32min\u001b[0m \u001b[0mrange\u001b[0m\u001b[0;34m(\u001b[0m\u001b[0;36m0\u001b[0m\u001b[0;34m,\u001b[0m\u001b[0mlen\u001b[0m\u001b[0;34m(\u001b[0m\u001b[0mtext\u001b[0m\u001b[0;34m)\u001b[0m\u001b[0;34m,\u001b[0m\u001b[0mn\u001b[0m\u001b[0;34m)\u001b[0m\u001b[0;34m]\u001b[0m\u001b[0;34m\u001b[0m\u001b[0;34m\u001b[0m\u001b[0m\n\u001b[0m",
      "\u001b[0;32m<ipython-input-9-4746a3b5b91f>\u001b[0m in \u001b[0;36m<listcomp>\u001b[0;34m(.0)\u001b[0m\n\u001b[1;32m      4\u001b[0m \u001b[0mn\u001b[0m \u001b[0;34m=\u001b[0m \u001b[0;36m4\u001b[0m\u001b[0;34m\u001b[0m\u001b[0;34m\u001b[0m\u001b[0m\n\u001b[1;32m      5\u001b[0m \u001b[0mprint\u001b[0m\u001b[0;34m(\u001b[0m\u001b[0mtext\u001b[0m\u001b[0;34m)\u001b[0m\u001b[0;34m\u001b[0m\u001b[0;34m\u001b[0m\u001b[0m\n\u001b[0;32m----> 6\u001b[0;31m \u001b[0;34m[\u001b[0m\u001b[0;34m' '\u001b[0m\u001b[0;34m.\u001b[0m\u001b[0mjoin\u001b[0m\u001b[0;34m(\u001b[0m\u001b[0mtext\u001b[0m\u001b[0;34m[\u001b[0m\u001b[0mi\u001b[0m\u001b[0;34m:\u001b[0m\u001b[0mi\u001b[0m\u001b[0;34m+\u001b[0m\u001b[0mn\u001b[0m\u001b[0;34m]\u001b[0m\u001b[0;34m)\u001b[0m \u001b[0;32mfor\u001b[0m \u001b[0mi\u001b[0m \u001b[0;32min\u001b[0m \u001b[0mrange\u001b[0m\u001b[0;34m(\u001b[0m\u001b[0;36m0\u001b[0m\u001b[0;34m,\u001b[0m\u001b[0mlen\u001b[0m\u001b[0;34m(\u001b[0m\u001b[0mtext\u001b[0m\u001b[0;34m)\u001b[0m\u001b[0;34m,\u001b[0m\u001b[0mn\u001b[0m\u001b[0;34m)\u001b[0m\u001b[0;34m]\u001b[0m\u001b[0;34m\u001b[0m\u001b[0;34m\u001b[0m\u001b[0m\n\u001b[0m",
      "\u001b[0;31mTypeError\u001b[0m: sequence item 0: expected str instance, list found"
     ]
    }
   ],
   "source": [
    "text = 'This is a small example Text, showcasing my desired output.'\n",
    "text = text.split()\n",
    "n = 4\n",
    "[' '.join(text[i:i+n]) for i in range(0,len(text),n)]"
   ]
  },
  {
   "cell_type": "code",
   "execution_count": 9,
   "metadata": {},
   "outputs": [
    {
     "name": "stdout",
     "output_type": "stream",
     "text": [
      "11\n"
     ]
    }
   ],
   "source": [
    "asr_test = open(\"/Users/sammitranade/mscds/diss/TEDLIUM_release1/test/baseline-test/seg-test-bpe.txt\").readlines()\n",
    "n = 25\n",
    "asr_seg_test = []\n",
    "for l in asr_test:\n",
    "    l = l.split()\n",
    "    asr_seg_test.append([' '.join(l[i:i+n]) for i in range(0,len(l),n)])\n",
    "print(len(asr_seg_test))\n"
   ]
  },
  {
   "cell_type": "code",
   "execution_count": 24,
   "metadata": {},
   "outputs": [
    {
     "name": "stdout",
     "output_type": "stream",
     "text": [
      "Collecting funcy\n",
      "  Downloading funcy-1.16-py2.py3-none-any.whl (32 kB)\n",
      "Installing collected packages: funcy\n",
      "Successfully installed funcy-1.16\n"
     ]
    }
   ],
   "source": [
    "! pip install funcy"
   ]
  },
  {
   "cell_type": "code",
   "execution_count": 10,
   "metadata": {},
   "outputs": [],
   "source": [
    "def flattened(lst):\n",
    "    \"\"\"Flattens a list of lists\"\"\"\n",
    "    return [subelem for elem in lst \n",
    "                    for subelem in elem]"
   ]
  },
  {
   "cell_type": "code",
   "execution_count": 11,
   "metadata": {},
   "outputs": [],
   "source": [
    "# len(asr_seg_test[1])\n",
    "flat_list = flattened(asr_seg_test)\n",
    "# 11"
   ]
  },
  {
   "cell_type": "code",
   "execution_count": 12,
   "metadata": {},
   "outputs": [
    {
     "data": {
      "text/plain": [
       "1017"
      ]
     },
     "execution_count": 12,
     "metadata": {},
     "output_type": "execute_result"
    }
   ],
   "source": [
    "len(flat_list)"
   ]
  },
  {
   "cell_type": "code",
   "execution_count": 13,
   "metadata": {},
   "outputs": [
    {
     "data": {
      "text/plain": [
       "'dreams are being watched and at eighteen were investing billions to a grade in build out our wire and wireless networks now is not the'"
      ]
     },
     "execution_count": 13,
     "metadata": {},
     "output_type": "execute_result"
    }
   ],
   "source": [
    "flat_list[-2]"
   ]
  },
  {
   "cell_type": "code",
   "execution_count": 14,
   "metadata": {},
   "outputs": [],
   "source": [
    "with open(\"/Users/sammitranade/mscds/diss/TEDLIUM_release1/test/baseline-test/asr_seg_25_bpe.txt\", \"w\") as outfile:\n",
    "            outfile.write(\"\\n\".join(flat_list))"
   ]
  },
  {
   "cell_type": "code",
   "execution_count": null,
   "metadata": {},
   "outputs": [],
   "source": []
  },
  {
   "cell_type": "code",
   "execution_count": 54,
   "metadata": {},
   "outputs": [
    {
     "data": {
      "image/png": "[encoded data removed]",
      "text/plain": [
       "<Figure size 720x432 with 1 Axes>"
      ]
     },
     "metadata": {
      "needs_background": "light"
     },
     "output_type": "display_data"
    }
   ],
   "source": [
    "import matplotlib.pyplot as plt\n",
    "import numpy as np\n",
    "import pandas as pd\n",
    "\n",
    "labels = ['10','20','50', '80', '100']\n",
    "men_means = [41.072, 40.124, 40.552, 41.706, 49.621]\n",
    "# women_means = [41.072, 40.124, 40.552, 41.706, 49.621]\n",
    "# means = [40.459, 39.646, 40.404, 40.989, 49.511]\n",
    "\n",
    "x = np.arange(len(labels))  # the label locations\n",
    "width = 0.3  # the width of the bars\n",
    "# s = pd.Series([38.170])\n",
    "# s.plot.line()\n",
    "\n",
    "fig, ax = plt.subplots(figsize=(10, 6))\n",
    "rects1 = ax.bar(x, men_means, width)\n",
    "# rects2 = ax.bar(x , women_means, width, label='ASR Test Data Segmented using Ref Test data')\n",
    "# rects3 = ax.bar(x + width, means, width, label='ASR Test Data Fixed Length Segmentation')\n",
    "\n",
    "# Add some text for labels, title and custom x-axis tick labels, etc.\n",
    "ax.set_ylabel('APE WER %')\n",
    "ax.set_xlabel(\"Training Data Filtered @ WER%\")\n",
    "# ax.set_title('APE WER w.r.t Gold Reference')\n",
    "ax.set_xticks(x)\n",
    "ax.set_xticklabels(labels)\n",
    "\n",
    "line1 = ax.axhline(y=38.17, color='r', linestyle='--', label='Baseline WER%')\n",
    "\n",
    "# plt.show() \n",
    "ax.legend()\n",
    "ax.annotate('38.170', xy =(3.3, 1),\n",
    "                xytext =(1.3, 39))\n",
    "# ax.bar_label(line1, padding=3)\n",
    "ax.bar_label(rects1, padding=3)\n",
    "# ax.bar_label(rects2, padding=3)\n",
    "# ax.bar_label(rects3, padding=3)\n",
    "\n",
    "fig.tight_layout()\n",
    "\n",
    "plt.show()\n",
    "\n",
    "# fig.tight_layout() # This minimises whitespace around the axes.\n",
    "fig.savefig('exp1_1.pdf')"
   ]
  },
  {
   "cell_type": "code",
   "execution_count": 55,
   "metadata": {},
   "outputs": [
    {
     "data": {
      "image/png": "[encoded data removed]",
      "text/plain": [
       "<Figure size 720x432 with 1 Axes>"
      ]
     },
     "metadata": {
      "needs_background": "light"
     },
     "output_type": "display_data"
    }
   ],
   "source": [
    "import matplotlib.pyplot as plt\n",
    "import numpy as np\n",
    "import pandas as pd\n",
    "\n",
    "labels = ['10','20','50', '80', '100']\n",
    "men_means = [9.723, 9.095, 11.721, 14.048, 27.922]\n",
    "# women_means = [41.072, 40.124, 40.552, 41.706, 49.621]\n",
    "# means = [40.459, 39.646, 40.404, 40.989, 49.511]\n",
    "\n",
    "x = np.arange(len(labels))  # the label locations\n",
    "width = 0.3  # the width of the bars\n",
    "# s = pd.Series([38.170])\n",
    "# s.plot.line()\n",
    "\n",
    "fig, ax = plt.subplots(figsize=(10, 6))\n",
    "rects1 = ax.bar(x, men_means, width)\n",
    "# rects2 = ax.bar(x , women_means, width, label='ASR Test Data Segmented using Ref Test data')\n",
    "# rects3 = ax.bar(x + width, means, width, label='ASR Test Data Fixed Length Segmentation')\n",
    "\n",
    "# Add some text for labels, title and custom x-axis tick labels, etc.\n",
    "ax.set_ylabel('APE WER %')\n",
    "ax.set_xlabel(\"Training Data Filtered @ WER%\")\n",
    "# ax.set_title('APE WER w.r.t Gold Reference')\n",
    "ax.set_xticks(x)\n",
    "ax.set_xticklabels(labels)\n",
    "\n",
    "# line1 = ax.axhline(y=38.17, color='r', linestyle='--', label='Baseline WER%')\n",
    "\n",
    "# plt.show() \n",
    "# ax.legend()\n",
    "# ax.annotate('38.170', xy =(3.3, 1),\n",
    "#                 xytext =(1.3, 39))\n",
    "# ax.bar_label(line1, padding=3)\n",
    "ax.bar_label(rects1, padding=3)\n",
    "# ax.bar_label(rects2, padding=3)\n",
    "# ax.bar_label(rects3, padding=3)\n",
    "\n",
    "fig.tight_layout()\n",
    "\n",
    "plt.show()\n",
    "\n",
    "# fig.tight_layout() # This minimises whitespace around the axes.\n",
    "fig.savefig('exp1_2.pdf')"
   ]
  },
  {
   "cell_type": "code",
   "execution_count": null,
   "metadata": {},
   "outputs": [],
   "source": []
  },
  {
   "cell_type": "code",
   "execution_count": null,
   "metadata": {},
   "outputs": [],
   "source": []
  },
  {
   "cell_type": "code",
   "execution_count": null,
   "metadata": {},
   "outputs": [],
   "source": []
  }
 ],
 "metadata": {
  "kernelspec": {
   "display_name": "Python 3",
   "language": "python",
   "name": "python3"
  },
  "language_info": {
   "codemirror_mode": {
    "name": "ipython",
    "version": 3
   },
   "file_extension": ".py",
   "mimetype": "text/x-python",
   "name": "python",
   "nbconvert_exporter": "python",
   "pygments_lexer": "ipython3",
   "version": "3.9.4"
  }
 },
 "nbformat": 4,
 "nbformat_minor": 2
}
