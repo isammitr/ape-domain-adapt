{
 "cells": [
  {
   "cell_type": "code",
   "execution_count": 1,
   "metadata": {},
   "outputs": [],
   "source": [
    "import re\n",
    "import os"
   ]
  },
  {
   "cell_type": "code",
   "execution_count": 2,
   "metadata": {},
   "outputs": [],
   "source": [
    "os.chdir('/Users/sammitranade/mscds/diss/TEDLIUM_release1/test/stm/')"
   ]
  },
  {
   "cell_type": "code",
   "execution_count": 3,
   "metadata": {},
   "outputs": [],
   "source": [
    "directory = os.fsencode(\"/Users/sammitranade/mscds/diss/TEDLIUM_release1/test/stm\")"
   ]
  },
  {
   "cell_type": "code",
   "execution_count": 7,
   "metadata": {
    "scrolled": true
   },
   "outputs": [
    {
     "name": "stdout",
     "output_type": "stream",
     "text": [
      "JaneMcGonigal_2010\n",
      "pre-processing done\n",
      "TomWujec_2010U\n",
      "pre-processing done\n",
      "AimeeMullins_2009P\n",
      "pre-processing done\n",
      "GaryFlake_2010\n",
      "pre-processing done\n",
      "DanielKahneman_2010\n",
      "pre-processing done\n",
      "JamesCameron_2010\n",
      "pre-processing done\n",
      "DanBarber_2010\n",
      "pre-processing done\n",
      "EricMead_2009P\n",
      "pre-processing done\n",
      "BillGates_2010\n",
      "pre-processing done\n",
      "MichaelSpecter_2010\n",
      "pre-processing done\n",
      "RobertGupta_2010U\n",
      "pre-processing done\n"
     ]
    }
   ],
   "source": [
    "for file in os.listdir(directory):\n",
    "    org_file = os.fsdecode(file)\n",
    "    filename, file_ext = os.path.splitext(org_file)\n",
    "    print(filename)\n",
    "    if file_ext == '.stm':\n",
    "        sorted_data = sorted(open(os.path.join(\"/Users/sammitranade/mscds/diss/TEDLIUM_release1/test/stm\",\n",
    "                                  org_file)).readlines(), key=lambda line: float(line.split(' ')[3]))\n",
    "        sorted_data = [s[s.find(\">\")+2:] for s in sorted_data]\n",
    "        sorted_data = [re.sub(\"[\\(\\[].*?[\\)\\]]\", \"\", s) for s in sorted_data]\n",
    "        sorted_data = [s.replace('{NOISE}', '').replace('{COUGH}', '').replace('uh', '').replace('um', '').replace('{SMACK}', '').replace('{HUM}', '').replace('{BREATH}', '').replace('<sil>', '').replace(\" '\", \"'\").replace(\"  \", \" \") for s in sorted_data]\n",
    "        sorted_data = [s.replace(\"  \", \" \") for s in sorted_data]\n",
    "#         sorted_data = [s.replace('ignore_time_segment_in_scoring', '') for s in sorted_data]\n",
    "        sorted_data = [ x for x in sorted_data if \"ignore_time_segment_in_scoring\" not in x ]\n",
    "        #         ignore_time_segment_in_scoring\n",
    "        sorted_data = [s.strip() for s in sorted_data]\n",
    "        print(\"pre-processing done\")\n",
    "        with open(\"/Users/sammitranade/mscds/diss/TEDLIUM_release1/test/updated-test/{0}.txt\".format(filename), \"w\") as outfile:\n",
    "            outfile.write(\"\".join(sorted_data))"
   ]
  },
  {
   "cell_type": "code",
   "execution_count": null,
   "metadata": {},
   "outputs": [],
   "source": []
  },
  {
   "cell_type": "code",
   "execution_count": null,
   "metadata": {},
   "outputs": [],
   "source": []
  }
 ],
 "metadata": {
  "kernelspec": {
   "display_name": "Python 3",
   "language": "python",
   "name": "python3"
  },
  "language_info": {
   "codemirror_mode": {
    "name": "ipython",
    "version": 3
   },
   "file_extension": ".py",
   "mimetype": "text/x-python",
   "name": "python",
   "nbconvert_exporter": "python",
   "pygments_lexer": "ipython3",
   "version": "3.9.4"
  }
 },
 "nbformat": 4,
 "nbformat_minor": 2
}
